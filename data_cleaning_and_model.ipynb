{
 "cells": [
  {
   "cell_type": "code",
   "execution_count": null,
   "id": "1ad41147-52b7-4bb0-94e3-f95a4532a789",
   "metadata": {},
   "outputs": [],
   "source": [
    "import numpy as np\n",
    "import pandas as pd\n",
    "import matplotlib.pyplot as plt\n",
    "import yaml"
   ]
  },
  {
   "cell_type": "code",
   "execution_count": null,
   "id": "2259f553-0567-434d-916c-e1b041456e49",
   "metadata": {},
   "outputs": [],
   "source": [
    "df = pd.read_excel('Data\\mediamarkt_products.xlsx')"
   ]
  },
  {
   "cell_type": "code",
   "execution_count": null,
   "id": "da80aeb3-f441-491d-976c-c9ece477fe28",
   "metadata": {},
   "outputs": [],
   "source": [
    "selected_cols = [\n",
    "    \"price\", \"Termék típusa\",\n",
    "    \"Operációs rendszer\", \"Kapacitás\", \"Memóriaméret\",\n",
    "    \"Képernyőátló\", \"Felbontás szélesség\", \"Felbontás magasság\",\n",
    "    \"Hátsó kamera\", \"Hátsó kamera felbontás\", \"Előlapi kamera\",\n",
    "    \"Előlapi kamera felbontása\", \"Arcfelismerés\", \"Dual SIM\",\n",
    "    \"Szélesség\", \"Magasság\", \"Mélység\",\n",
    "    \"Tömeg\", \"Akkumulátor kapacitás\", #\"Modell azonosító\", \"reviews\"\n",
    "]"
   ]
  },
  {
   "cell_type": "code",
   "execution_count": null,
   "id": "7858542d-5fa5-4a4f-b52a-ac00e2b398b9",
   "metadata": {},
   "outputs": [],
   "source": [
    "df = df[selected_cols]\n",
    "df = df.rename(\n",
    "    columns={\n",
    "    \"Termék típusa\":\"type\",\n",
    "    \"Operációs rendszer\":\"op\",\n",
    "    \"Kapacitás\":\"capacity\",\n",
    "    \"Memóriaméret\":\"memory\",\n",
    "    \"Képernyőátló\":\"screen_diagonal\",\n",
    "    \"Felbontás szélesség\":\"pixel_w\",\n",
    "    \"Felbontás magasság\":\"pixel_h\",\n",
    "    \"Hátsó kamera\":\"back_camera\",\n",
    "    \"Hátsó kamera felbontás\":\"back_camera_resolution\",\n",
    "    \"Előlapi kamera\":\"front_camera\",\n",
    "    \"Előlapi kamera felbontása\":\"front_camera_resolution\",\n",
    "    \"Arcfelismerés\":\"face_id\",\n",
    "    \"Dual SIM\":\"dual_sim\",\n",
    "    \"Szélesség\":\"w\",\n",
    "    \"Magasság\":\"h\",\n",
    "    \"Mélység\":\"d\",\n",
    "    \"Tömeg\":\"mass\",\n",
    "    \"Akkumulátor kapacitás\":\"battery\",\n",
    "    #\"Modell azonosító\":\"model_id\",\n",
    "    }\n",
    ")"
   ]
  },
  {
   "cell_type": "code",
   "execution_count": null,
   "id": "0913ddb7",
   "metadata": {},
   "outputs": [],
   "source": [
    "for col in df.columns:\n",
    "    unique_vals = df[col].unique().tolist() \n",
    "    num_missing = df[col].isnull().sum()\n",
    "    \n",
    "    print(f\"Column: {col}\")\n",
    "    print(f\"  Unique Values: {unique_vals}\")\n",
    "    print(f\"  Number of Missing: {num_missing}\")\n",
    "    print(\"-\" * 40)"
   ]
  },
  {
   "cell_type": "code",
   "execution_count": null,
   "id": "dba14f61",
   "metadata": {},
   "outputs": [],
   "source": [
    "df['price'] = df['price'].str.strip(',')\n",
    "df['price'] = df['price'].str.replace(r'[\\s\\u00A0,]', '', regex=True)\n",
    "df['price'] = df['price'].astype(int)"
   ]
  },
  {
   "cell_type": "code",
   "execution_count": null,
   "id": "4faf1599-2daf-40c3-a279-b35c61f5d5c8",
   "metadata": {},
   "outputs": [],
   "source": [
    "# Reviews\n",
    "#df['reviews'] = df['reviews'].str.split(' ').str[0].astype(int)\n",
    "#df.reviews.isna().sum() # none missing"
   ]
  },
  {
   "cell_type": "code",
   "execution_count": null,
   "id": "b5e1781c-77bc-486e-9488-80159226dff7",
   "metadata": {},
   "outputs": [],
   "source": [
    "# Type\n",
    "df = df.dropna(subset=['type']).reset_index(drop=True) # 4 missing (all columns)\n",
    "\n",
    "df['type'] = df['type'].str.lower()\n",
    "df = df[df['type'].str.contains('okostelefon', case=False, na=False)].copy()\n",
    "\n",
    "df.loc[:, 'type'] = df['type'].apply(lambda x: 'iphone' if 'iphone' in x.lower() else 'okostelefon')\n",
    "df.type = df.type.map({'iphone': 1, 'okostelefon': 0})"
   ]
  },
  {
   "cell_type": "code",
   "execution_count": null,
   "id": "fb4d38da-e3cf-4206-ad35-1d8f9e185bf7",
   "metadata": {},
   "outputs": [],
   "source": [
    "# Op rendszer\n",
    "df = df.drop(['op'], axis=1) # equal to type"
   ]
  },
  {
   "cell_type": "code",
   "execution_count": null,
   "id": "2df4fc90-44da-4acf-8c97-9f4b87af67df",
   "metadata": {},
   "outputs": [],
   "source": [
    "# Capacity\n",
    "df = df.replace({'capacity': {'1 TB': '1024 GB'}})\n",
    "df['capacity'] = df['capacity'].str.split(' ').str[0].astype(int)"
   ]
  },
  {
   "cell_type": "code",
   "execution_count": null,
   "id": "0fa3ddea-bd0a-49fc-a8cd-3b088dabd7ee",
   "metadata": {},
   "outputs": [],
   "source": [
    "# Memory\n",
    "df['memory'] = df['memory'].str.split(' ').str[0].astype(int)"
   ]
  },
  {
   "cell_type": "code",
   "execution_count": null,
   "id": "b2dfaa1f-1bf2-48f6-9720-2589afa35262",
   "metadata": {},
   "outputs": [],
   "source": [
    "# Screen diagonal\n",
    "df['screen_diagonal'] = df['screen_diagonal'].str.split(' ').str[0].astype(float)"
   ]
  },
  {
   "cell_type": "code",
   "execution_count": null,
   "id": "c1e8c7ed-a694-4049-b7ce-eb26d9a8a2b9",
   "metadata": {},
   "outputs": [],
   "source": [
    "# Pixel width & height\n",
    "df = df.dropna(subset=['pixel_w', 'pixel_h'])\n",
    "df['pixel_w'] = df['pixel_w'].str.split(' ').str[0].astype(int)\n",
    "df['pixel_h'] = df['pixel_h'].str.split(' ').str[0].astype(int)"
   ]
  },
  {
   "cell_type": "code",
   "execution_count": null,
   "id": "3e6f6474-eafc-4a88-9097-f2c0c07285e4",
   "metadata": {},
   "outputs": [],
   "source": [
    "# Back camera & resolution\n",
    "df.back_camera = df.back_camera.map({'Single Cam': 1, 'Dual Cam': 2, 'Triple Cam': 3, 'Quad Cam': 4})\n",
    "\n",
    "#df.back_camera.hist()\n",
    "\n",
    "df['back_camera_resolution'] = df['back_camera_resolution'].str.extract(r'(\\d+)').astype(float)\n",
    "df['back_camera_resolution'] = df['back_camera_resolution'].fillna(df['back_camera_resolution'].median())"
   ]
  },
  {
   "cell_type": "code",
   "execution_count": null,
   "id": "d9b9b41e-571b-4f95-be63-de08fb0daf9b",
   "metadata": {},
   "outputs": [],
   "source": [
    "# Front camera & resolution\n",
    "df.front_camera = df.front_camera.map({'Single Cam': 1, 'Dual Cam': 2})\n",
    "df['front_camera_resolution'] = df['front_camera_resolution'].str.split(' ').str[0].astype(int)\n"
   ]
  },
  {
   "cell_type": "code",
   "execution_count": null,
   "id": "f474b949-8a9f-49f8-8a47-62106176b33d",
   "metadata": {},
   "outputs": [],
   "source": [
    "# Face ID & Dual Sim\n",
    "df['face_id'] = df['face_id'].replace({'Igen': 1, 'Nem': 0}).fillna(0).astype(int)\n",
    "df['dual_sim'] = df['dual_sim'].replace({'Igen': 1, 'Nem': 0}).fillna(0).astype(int)"
   ]
  },
  {
   "cell_type": "code",
   "execution_count": null,
   "id": "5e6ee013-a999-4390-a987-b02e83295d82",
   "metadata": {},
   "outputs": [],
   "source": [
    "# Width & Height & Depth\n",
    "df.w = df.w.str.split(' ').str[0].astype(float)\n",
    "df.h = df.h.str.split(' ').str[0].astype(float)\n",
    "df.d = df.d.str.split(' ').str[0].astype(float)\n",
    "\n",
    "#plt.hist(df.h)\n",
    "#plt.hist(df.w)\n",
    "\n",
    "df = df[df.h > 100]\n",
    "df = df[df.w < 100]"
   ]
  },
  {
   "cell_type": "code",
   "execution_count": null,
   "id": "475e4403-1673-4127-9054-e4f7e4bde8f5",
   "metadata": {},
   "outputs": [],
   "source": [
    "# Mass\n",
    "df.mass = df.mass.str.split(' ').str[0].astype(float)\n",
    "df.loc[df['mass'] < 1, 'mass'] = df.loc[df['mass'] < 1, 'mass'] * 1000"
   ]
  },
  {
   "cell_type": "code",
   "execution_count": null,
   "id": "2dda03c7-170f-45f9-9084-4459ef19aa56",
   "metadata": {},
   "outputs": [],
   "source": [
    "# Battery\n",
    "df['battery'] = df['battery'].str.extract(r'(\\d+)').astype(float)\n",
    "df['battery'] = df['battery'].fillna(df['battery'].median())"
   ]
  },
  {
   "cell_type": "code",
   "execution_count": null,
   "id": "313fdb62-be4a-4aea-9138-faf607a7d279",
   "metadata": {},
   "outputs": [],
   "source": [
    "df.isna().sum()"
   ]
  },
  {
   "cell_type": "code",
   "execution_count": null,
   "id": "e23fc492-29c2-4c13-a245-25c1a2ceef55",
   "metadata": {},
   "outputs": [],
   "source": [
    "ax = df.hist(\n",
    "    figsize=(12, 8),       # bigger figure size\n",
    "    bins=20,               # number of bins\n",
    "    edgecolor='black',     # black edges for bars\n",
    "    color='skyblue',       # bar color\n",
    "    grid=False             # optional: remove grid lines\n",
    ")\n",
    "\n",
    "# Beautify each subplot\n",
    "for a in ax.ravel():\n",
    "    a.set_title(a.get_title(), fontsize=14)\n",
    "    a.set_xlabel(a.get_xlabel(), fontsize=12)\n",
    "    a.set_ylabel(a.get_ylabel(), fontsize=12)\n",
    "    a.tick_params(axis='both', labelsize=10)\n",
    "\n",
    "plt.tight_layout()\n",
    "plt.show()"
   ]
  },
  {
   "cell_type": "code",
   "execution_count": null,
   "id": "044bdd73-8cae-4d87-b223-e5a5a76df7c5",
   "metadata": {},
   "outputs": [],
   "source": [
    "df = df.drop(['front_camera'], axis=1)"
   ]
  },
  {
   "cell_type": "code",
   "execution_count": null,
   "id": "02d465b1",
   "metadata": {},
   "outputs": [],
   "source": [
    "df"
   ]
  },
  {
   "cell_type": "code",
   "execution_count": null,
   "id": "99ee394a",
   "metadata": {},
   "outputs": [],
   "source": []
  },
  {
   "cell_type": "code",
   "execution_count": null,
   "id": "1befd4e3",
   "metadata": {},
   "outputs": [],
   "source": [
    "from pycaret.regression import *\n",
    "from sklearn.model_selection import train_test_split"
   ]
  },
  {
   "cell_type": "code",
   "execution_count": null,
   "id": "ec9c6717",
   "metadata": {},
   "outputs": [],
   "source": [
    "# Specify column types\n",
    "binary_cat = ['type', 'face_id', 'dual_sim']\n",
    "ordinal_cat = ['back_camera']\n",
    "numeric_columns = [\n",
    " 'capacity', 'memory', 'screen_diagonal', \n",
    " 'pixel_w', 'pixel_h', 'back_camera_resolution',\n",
    " 'front_camera_resolution', 'w', 'h', \n",
    " 'd', 'mass', 'battery'\n",
    " ]"
   ]
  },
  {
   "cell_type": "code",
   "execution_count": null,
   "id": "0648352f",
   "metadata": {},
   "outputs": [],
   "source": [
    "stats = {}\n",
    "for col in numeric_columns:\n",
    "    if col in df.columns:\n",
    "        stats[col] = {\n",
    "            'min': float(df[col].min()),\n",
    "            'max': float(df[col].max()),\n",
    "            'mean': float(df[col].mean()),\n",
    "            'std': float(df[col].std()),\n",
    "        }\n",
    "\n",
    "# Save to YAML\n",
    "with open('numeric_stats.yaml', 'w') as f:\n",
    "    yaml.dump(stats, f, sort_keys=False)"
   ]
  },
  {
   "cell_type": "code",
   "execution_count": null,
   "id": "3f2aa543",
   "metadata": {},
   "outputs": [],
   "source": [
    "# Apply min-max normalization\n",
    "df[numeric_columns] = df[numeric_columns].apply(\n",
    "    lambda x: (x - x.min()) / (x.max() - x.min())\n",
    ")"
   ]
  },
  {
   "cell_type": "code",
   "execution_count": null,
   "id": "05497102",
   "metadata": {},
   "outputs": [],
   "source": [
    "train_val_df, test_df = train_test_split(df, test_size=0.1, random_state=42)"
   ]
  },
  {
   "cell_type": "code",
   "execution_count": null,
   "id": "2b801c10",
   "metadata": {},
   "outputs": [],
   "source": [
    "regression_setup = setup(\n",
    "    data=train_val_df,\n",
    "    target='price',\n",
    "    train_size=0.8,\n",
    "    numeric_features=numeric_columns,\n",
    "    categorical_features=binary_cat + ordinal_cat,\n",
    "    ordinal_features={\n",
    "        'back_camera': ['1', '2', '3', '4']    # adjust levels accordingly\n",
    "    },\n",
    "    normalize=False,  # already normalized\n",
    "    session_id=42,\n",
    "    verbose=False\n",
    ")"
   ]
  },
  {
   "cell_type": "code",
   "execution_count": null,
   "id": "22496b60",
   "metadata": {},
   "outputs": [],
   "source": [
    "best_model = compare_models(n_select=1, sort='MAE')\n",
    "tuned_model = tune_model(best_model)\n",
    "\n",
    "final_model = finalize_model(tuned_model)"
   ]
  },
  {
   "cell_type": "code",
   "execution_count": null,
   "id": "278d4bc3",
   "metadata": {},
   "outputs": [],
   "source": [
    "save_model(final_model, 'Models/best_regression_model')"
   ]
  },
  {
   "cell_type": "code",
   "execution_count": null,
   "id": "f59a1151",
   "metadata": {},
   "outputs": [],
   "source": [
    "predictions = predict_model(final_model, data=test_df)\n",
    "\n",
    "plt.figure(figsize=(8, 6))\n",
    "plt.scatter(predictions['price'], predictions['prediction_label'], alpha=0.7)\n",
    "plt.xlabel('Actual Price')\n",
    "plt.ylabel('Predicted Price')\n",
    "plt.title('Actual vs Predicted Price')\n",
    "plt.plot([predictions['price'].min(), predictions['price'].max()],\n",
    "         [predictions['price'].min(), predictions['price'].max()],\n",
    "         'r--')  # diagonal line\n",
    "plt.grid(True)\n",
    "plt.tight_layout()\n",
    "plt.show()"
   ]
  },
  {
   "cell_type": "code",
   "execution_count": null,
   "id": "a4f0b1bb",
   "metadata": {},
   "outputs": [],
   "source": []
  },
  {
   "cell_type": "code",
   "execution_count": null,
   "id": "821605c2",
   "metadata": {},
   "outputs": [],
   "source": []
  }
 ],
 "metadata": {
  "kernelspec": {
   "display_name": "venv_dmlab",
   "language": "python",
   "name": "python3"
  },
  "language_info": {
   "codemirror_mode": {
    "name": "ipython",
    "version": 3
   },
   "file_extension": ".py",
   "mimetype": "text/x-python",
   "name": "python",
   "nbconvert_exporter": "python",
   "pygments_lexer": "ipython3",
   "version": "3.10.5"
  }
 },
 "nbformat": 4,
 "nbformat_minor": 5
}
