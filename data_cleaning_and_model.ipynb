{
 "cells": [
  {
   "cell_type": "code",
   "execution_count": 1,
   "id": "1ad41147-52b7-4bb0-94e3-f95a4532a789",
   "metadata": {},
   "outputs": [],
   "source": [
    "import numpy as np\n",
    "import pandas as pd\n",
    "import matplotlib.pyplot as plt"
   ]
  },
  {
   "cell_type": "code",
   "execution_count": 2,
   "id": "2259f553-0567-434d-916c-e1b041456e49",
   "metadata": {},
   "outputs": [],
   "source": [
    "df = pd.read_excel('mediamarkt_products.xlsx')"
   ]
  },
  {
   "cell_type": "code",
   "execution_count": 3,
   "id": "da80aeb3-f441-491d-976c-c9ece477fe28",
   "metadata": {},
   "outputs": [],
   "source": [
    "selected_cols = [\n",
    "    \"price\", \"reviews\", \"Termék típusa\",\n",
    "    \"Operációs rendszer\", \"Kapacitás\", \"Memóriaméret\",\n",
    "    \"Képernyőátló\", \"Felbontás szélesség\", \"Felbontás magasság\",\n",
    "    \"Hátsó kamera\", \"Hátsó kamera felbontás\", \"Előlapi kamera\",\n",
    "    \"Előlapi kamera felbontása\", \"Arcfelismerés\", \"Dual SIM\",\n",
    "    \"Szélesség\", \"Magasság\", \"Mélység\",\n",
    "    \"Tömeg\", \"Akkumulátor kapacitás\", #\"Modell azonosító\",\n",
    "]"
   ]
  },
  {
   "cell_type": "code",
   "execution_count": 4,
   "id": "7858542d-5fa5-4a4f-b52a-ac00e2b398b9",
   "metadata": {},
   "outputs": [],
   "source": [
    "df = df[selected_cols]\n",
    "df = df.rename(\n",
    "    columns={\n",
    "    \"Termék típusa\":\"type\",\n",
    "    \"Operációs rendszer\":\"op\",\n",
    "    \"Kapacitás\":\"capacity\",\n",
    "    \"Memóriaméret\":\"memory\",\n",
    "    \"Képernyőátló\":\"screen_diagonal\",\n",
    "    \"Felbontás szélesség\":\"pixel_w\",\n",
    "    \"Felbontás magasság\":\"pixel_h\",\n",
    "    \"Hátsó kamera\":\"back_camera\",\n",
    "    \"Hátsó kamera felbontás\":\"back_camera_resolution\",\n",
    "    \"Előlapi kamera\":\"front_camera\",\n",
    "    \"Előlapi kamera felbontása\":\"front_camera_resolution\",\n",
    "    \"Arcfelismerés\":\"face_id\",\n",
    "    \"Dual SIM\":\"dual_sim\",\n",
    "    \"Szélesség\":\"w\",\n",
    "    \"Magasság\":\"h\",\n",
    "    \"Mélység\":\"d\",\n",
    "    \"Tömeg\":\"mass\",\n",
    "    \"Akkumulátor kapacitás\":\"battery\",\n",
    "    #\"Modell azonosító\":\"model_id\",\n",
    "    }\n",
    ")"
   ]
  },
  {
   "cell_type": "code",
   "execution_count": 5,
   "id": "14a5f8a4-c662-4e5a-a05a-5cc5a8c4d80e",
   "metadata": {},
   "outputs": [],
   "source": [
    "# Price\n",
    "df['price'] = df['price'].str.split(',').str[0].astype(int)\n",
    "df = df.dropna(subset=['price'])"
   ]
  },
  {
   "cell_type": "code",
   "execution_count": 6,
   "id": "4faf1599-2daf-40c3-a279-b35c61f5d5c8",
   "metadata": {},
   "outputs": [
    {
     "data": {
      "text/plain": [
       "0"
      ]
     },
     "execution_count": 6,
     "metadata": {},
     "output_type": "execute_result"
    }
   ],
   "source": [
    "# Reviews\n",
    "df['reviews'] = df['reviews'].str.split(' ').str[0].astype(int)\n",
    "df.reviews.isna().sum() # none missing"
   ]
  },
  {
   "cell_type": "code",
   "execution_count": 7,
   "id": "b5e1781c-77bc-486e-9488-80159226dff7",
   "metadata": {},
   "outputs": [
    {
     "data": {
      "text/plain": [
       "array(['Okostelefon', 'Okostelefon (iPhone 16 Pro Max)',\n",
       "       'Okostelefon (iPhone 16 Plus)', 'Okostelefon (iPhone 15 Plus)',\n",
       "       'Okostelefon (iPhone 15)', 'Okostelefon (iPhone 16 Pro)',\n",
       "       'Okostelefon (iPhone 14)',\n",
       "       'FM Transzmitter és telefon kihangosító',\n",
       "       'Okostelefon (iPhone 16)', nan, 'Dect telefon',\n",
       "       'Vezetékes telefon', 'DECT telefon', 'Samsung Okostelefon'],\n",
       "      dtype=object)"
      ]
     },
     "execution_count": 7,
     "metadata": {},
     "output_type": "execute_result"
    }
   ],
   "source": [
    "# Type\n",
    "df.type.unique()"
   ]
  },
  {
   "cell_type": "code",
   "execution_count": 8,
   "id": "a7cce34d-b0a6-45b8-9190-8940e4c548b0",
   "metadata": {},
   "outputs": [],
   "source": [
    "df['type'] = df['type'].str.lower()\n",
    "df = df[df['type'].str.contains('okostelefon', case=False, na=False)].copy()\n",
    "\n",
    "# Step 2: Replace values safely\n",
    "df.loc[:, 'type'] = df['type'].apply(lambda x: 'iphone' if 'iphone' in x.lower() else 'okostelefon')\n",
    "df.type = df.type.map({'iphone': 1, 'okostelefon': 0})"
   ]
  },
  {
   "cell_type": "code",
   "execution_count": 9,
   "id": "4c8a45cc-addd-49b5-b21f-582a4ba423b2",
   "metadata": {},
   "outputs": [
    {
     "data": {
      "text/plain": [
       "array([0, 1], dtype=int64)"
      ]
     },
     "execution_count": 9,
     "metadata": {},
     "output_type": "execute_result"
    }
   ],
   "source": [
    "df.type.unique()"
   ]
  },
  {
   "cell_type": "code",
   "execution_count": 10,
   "id": "21bd415b-08cd-4197-ab9c-301161cd5179",
   "metadata": {},
   "outputs": [
    {
     "data": {
      "text/plain": [
       "0"
      ]
     },
     "execution_count": 10,
     "metadata": {},
     "output_type": "execute_result"
    }
   ],
   "source": [
    "df.type.isna().sum()"
   ]
  },
  {
   "cell_type": "code",
   "execution_count": 11,
   "id": "fb4d38da-e3cf-4206-ad35-1d8f9e185bf7",
   "metadata": {},
   "outputs": [
    {
     "data": {
      "text/html": [
       "<div>\n",
       "<style scoped>\n",
       "    .dataframe tbody tr th:only-of-type {\n",
       "        vertical-align: middle;\n",
       "    }\n",
       "\n",
       "    .dataframe tbody tr th {\n",
       "        vertical-align: top;\n",
       "    }\n",
       "\n",
       "    .dataframe thead th {\n",
       "        text-align: right;\n",
       "    }\n",
       "</style>\n",
       "<table border=\"1\" class=\"dataframe\">\n",
       "  <thead>\n",
       "    <tr style=\"text-align: right;\">\n",
       "      <th></th>\n",
       "      <th>price</th>\n",
       "      <th>reviews</th>\n",
       "      <th>type</th>\n",
       "      <th>capacity</th>\n",
       "      <th>memory</th>\n",
       "      <th>screen_diagonal</th>\n",
       "      <th>pixel_w</th>\n",
       "      <th>pixel_h</th>\n",
       "      <th>back_camera</th>\n",
       "      <th>back_camera_resolution</th>\n",
       "      <th>front_camera</th>\n",
       "      <th>front_camera_resolution</th>\n",
       "      <th>face_id</th>\n",
       "      <th>dual_sim</th>\n",
       "      <th>w</th>\n",
       "      <th>h</th>\n",
       "      <th>d</th>\n",
       "      <th>mass</th>\n",
       "      <th>battery</th>\n",
       "    </tr>\n",
       "  </thead>\n",
       "  <tbody>\n",
       "    <tr>\n",
       "      <th>0</th>\n",
       "      <td>44999</td>\n",
       "      <td>5</td>\n",
       "      <td>0</td>\n",
       "      <td>128 GB</td>\n",
       "      <td>4 GB</td>\n",
       "      <td>17.47 cm</td>\n",
       "      <td>720 pixel</td>\n",
       "      <td>1640 pixel</td>\n",
       "      <td>Dual Cam</td>\n",
       "      <td>50 megapixel</td>\n",
       "      <td>Single Cam</td>\n",
       "      <td>13 megapixel</td>\n",
       "      <td>Igen</td>\n",
       "      <td>Igen</td>\n",
       "      <td>77.8 mm</td>\n",
       "      <td>171.88 mm</td>\n",
       "      <td>8.22 mm</td>\n",
       "      <td>211 g</td>\n",
       "      <td>5160 mAh</td>\n",
       "    </tr>\n",
       "    <tr>\n",
       "      <th>1</th>\n",
       "      <td>119999</td>\n",
       "      <td>6</td>\n",
       "      <td>0</td>\n",
       "      <td>256 GB</td>\n",
       "      <td>8 GB</td>\n",
       "      <td>16.94 cm</td>\n",
       "      <td>1080 pixel</td>\n",
       "      <td>2400 pixel</td>\n",
       "      <td>Triple Cam</td>\n",
       "      <td>200 megapixel</td>\n",
       "      <td>Single Cam</td>\n",
       "      <td>32 megapixel</td>\n",
       "      <td>NaN</td>\n",
       "      <td>Igen</td>\n",
       "      <td>74.9 mm</td>\n",
       "      <td>162.2 mm</td>\n",
       "      <td>8.2 mm</td>\n",
       "      <td>180 g</td>\n",
       "      <td>5500 mAh</td>\n",
       "    </tr>\n",
       "    <tr>\n",
       "      <th>2</th>\n",
       "      <td>94999</td>\n",
       "      <td>1</td>\n",
       "      <td>0</td>\n",
       "      <td>128 GB</td>\n",
       "      <td>6 GB</td>\n",
       "      <td>17 cm</td>\n",
       "      <td>1080 pixel</td>\n",
       "      <td>2340 pixel</td>\n",
       "      <td>Triple Cam</td>\n",
       "      <td>50 megapixel</td>\n",
       "      <td>Single Cam</td>\n",
       "      <td>13 megapixel</td>\n",
       "      <td>NaN</td>\n",
       "      <td>Nem</td>\n",
       "      <td>77.5 mm</td>\n",
       "      <td>164 mm</td>\n",
       "      <td>7.7 mm</td>\n",
       "      <td>200 g</td>\n",
       "      <td>5000 mAh</td>\n",
       "    </tr>\n",
       "    <tr>\n",
       "      <th>3</th>\n",
       "      <td>104999</td>\n",
       "      <td>3</td>\n",
       "      <td>0</td>\n",
       "      <td>256 GB</td>\n",
       "      <td>8 GB</td>\n",
       "      <td>16.94 cm</td>\n",
       "      <td>1080 pixel</td>\n",
       "      <td>2400 pixel</td>\n",
       "      <td>Triple Cam</td>\n",
       "      <td>108 megapixel</td>\n",
       "      <td>Single Cam</td>\n",
       "      <td>20 megapixel</td>\n",
       "      <td>NaN</td>\n",
       "      <td>Igen</td>\n",
       "      <td>75.7 mm</td>\n",
       "      <td>162.4 mm</td>\n",
       "      <td>8 mm</td>\n",
       "      <td>190 g</td>\n",
       "      <td>5110 mAh</td>\n",
       "    </tr>\n",
       "    <tr>\n",
       "      <th>4</th>\n",
       "      <td>33999</td>\n",
       "      <td>2</td>\n",
       "      <td>0</td>\n",
       "      <td>64 GB</td>\n",
       "      <td>3 GB</td>\n",
       "      <td>17.47 cm</td>\n",
       "      <td>720 pixel</td>\n",
       "      <td>1640 pixel</td>\n",
       "      <td>Dual Cam</td>\n",
       "      <td>32 megapixel</td>\n",
       "      <td>Single Cam</td>\n",
       "      <td>8 megapixel</td>\n",
       "      <td>Igen</td>\n",
       "      <td>Igen</td>\n",
       "      <td>79.4 mm</td>\n",
       "      <td>173.3 mm</td>\n",
       "      <td>8.26 mm</td>\n",
       "      <td>198 g</td>\n",
       "      <td>5200 mAh</td>\n",
       "    </tr>\n",
       "    <tr>\n",
       "      <th>...</th>\n",
       "      <td>...</td>\n",
       "      <td>...</td>\n",
       "      <td>...</td>\n",
       "      <td>...</td>\n",
       "      <td>...</td>\n",
       "      <td>...</td>\n",
       "      <td>...</td>\n",
       "      <td>...</td>\n",
       "      <td>...</td>\n",
       "      <td>...</td>\n",
       "      <td>...</td>\n",
       "      <td>...</td>\n",
       "      <td>...</td>\n",
       "      <td>...</td>\n",
       "      <td>...</td>\n",
       "      <td>...</td>\n",
       "      <td>...</td>\n",
       "      <td>...</td>\n",
       "      <td>...</td>\n",
       "    </tr>\n",
       "    <tr>\n",
       "      <th>235</th>\n",
       "      <td>389999</td>\n",
       "      <td>1</td>\n",
       "      <td>1</td>\n",
       "      <td>128 GB</td>\n",
       "      <td>8 GB</td>\n",
       "      <td>17 cm</td>\n",
       "      <td>1290 pixel</td>\n",
       "      <td>2796 pixel</td>\n",
       "      <td>Dual Cam</td>\n",
       "      <td>48 megapixel</td>\n",
       "      <td>Single Cam</td>\n",
       "      <td>12 megapixel</td>\n",
       "      <td>Igen</td>\n",
       "      <td>Nem</td>\n",
       "      <td>77.8 mm</td>\n",
       "      <td>160.9 mm</td>\n",
       "      <td>7.8 mm</td>\n",
       "      <td>199 g</td>\n",
       "      <td>4006 mAh</td>\n",
       "    </tr>\n",
       "    <tr>\n",
       "      <th>236</th>\n",
       "      <td>394999</td>\n",
       "      <td>11</td>\n",
       "      <td>1</td>\n",
       "      <td>256 GB</td>\n",
       "      <td>6 GB</td>\n",
       "      <td>17 cm</td>\n",
       "      <td>1290 pixel</td>\n",
       "      <td>2796 pixel</td>\n",
       "      <td>Dual Cam</td>\n",
       "      <td>48 megapixel</td>\n",
       "      <td>Single Cam</td>\n",
       "      <td>12 megapixel</td>\n",
       "      <td>Igen</td>\n",
       "      <td>Nem</td>\n",
       "      <td>77.8 mm</td>\n",
       "      <td>160.9 mm</td>\n",
       "      <td>7.8 mm</td>\n",
       "      <td>0.201 kg</td>\n",
       "      <td>NaN</td>\n",
       "    </tr>\n",
       "    <tr>\n",
       "      <th>237</th>\n",
       "      <td>349999</td>\n",
       "      <td>11</td>\n",
       "      <td>1</td>\n",
       "      <td>128 GB</td>\n",
       "      <td>6 GB</td>\n",
       "      <td>17 cm</td>\n",
       "      <td>1290 pixel</td>\n",
       "      <td>2796 pixel</td>\n",
       "      <td>Dual Cam</td>\n",
       "      <td>48 megapixel</td>\n",
       "      <td>Single Cam</td>\n",
       "      <td>12 megapixel</td>\n",
       "      <td>Igen</td>\n",
       "      <td>Nem</td>\n",
       "      <td>77.8 mm</td>\n",
       "      <td>160.9 mm</td>\n",
       "      <td>7.8 mm</td>\n",
       "      <td>0.201 kg</td>\n",
       "      <td>NaN</td>\n",
       "    </tr>\n",
       "    <tr>\n",
       "      <th>238</th>\n",
       "      <td>233999</td>\n",
       "      <td>0</td>\n",
       "      <td>0</td>\n",
       "      <td>512 GB</td>\n",
       "      <td>12 GB</td>\n",
       "      <td>16.94 cm</td>\n",
       "      <td>1220 pixel</td>\n",
       "      <td>2712 pixel</td>\n",
       "      <td>Triple Cam</td>\n",
       "      <td>50 megapixel</td>\n",
       "      <td>Single Cam</td>\n",
       "      <td>50 megapixel</td>\n",
       "      <td>NaN</td>\n",
       "      <td>Nem</td>\n",
       "      <td>73.06 mm</td>\n",
       "      <td>160.69 mm</td>\n",
       "      <td>8.24 mm</td>\n",
       "      <td>186 g</td>\n",
       "      <td>6000 mAh</td>\n",
       "    </tr>\n",
       "    <tr>\n",
       "      <th>239</th>\n",
       "      <td>75999</td>\n",
       "      <td>0</td>\n",
       "      <td>0</td>\n",
       "      <td>256 GB</td>\n",
       "      <td>8 GB</td>\n",
       "      <td>17.07 cm</td>\n",
       "      <td>1080 pixel</td>\n",
       "      <td>2400 pixel</td>\n",
       "      <td>Single Cam</td>\n",
       "      <td>50 megapixel</td>\n",
       "      <td>Single Cam</td>\n",
       "      <td>8 megapixel</td>\n",
       "      <td>NaN</td>\n",
       "      <td>Igen</td>\n",
       "      <td>76.22 mm</td>\n",
       "      <td>165.69 mm</td>\n",
       "      <td>7.99 mm</td>\n",
       "      <td>196 g</td>\n",
       "      <td>6000 mAh</td>\n",
       "    </tr>\n",
       "  </tbody>\n",
       "</table>\n",
       "<p>231 rows × 19 columns</p>\n",
       "</div>"
      ],
      "text/plain": [
       "      price  reviews  type capacity memory screen_diagonal     pixel_w  \\\n",
       "0     44999        5     0   128 GB   4 GB        17.47 cm   720 pixel   \n",
       "1    119999        6     0   256 GB   8 GB        16.94 cm  1080 pixel   \n",
       "2     94999        1     0   128 GB   6 GB           17 cm  1080 pixel   \n",
       "3    104999        3     0   256 GB   8 GB        16.94 cm  1080 pixel   \n",
       "4     33999        2     0    64 GB   3 GB        17.47 cm   720 pixel   \n",
       "..      ...      ...   ...      ...    ...             ...         ...   \n",
       "235  389999        1     1   128 GB   8 GB           17 cm  1290 pixel   \n",
       "236  394999       11     1   256 GB   6 GB           17 cm  1290 pixel   \n",
       "237  349999       11     1   128 GB   6 GB           17 cm  1290 pixel   \n",
       "238  233999        0     0   512 GB  12 GB        16.94 cm  1220 pixel   \n",
       "239   75999        0     0   256 GB   8 GB        17.07 cm  1080 pixel   \n",
       "\n",
       "        pixel_h back_camera back_camera_resolution front_camera  \\\n",
       "0    1640 pixel    Dual Cam           50 megapixel   Single Cam   \n",
       "1    2400 pixel  Triple Cam          200 megapixel   Single Cam   \n",
       "2    2340 pixel  Triple Cam           50 megapixel   Single Cam   \n",
       "3    2400 pixel  Triple Cam          108 megapixel   Single Cam   \n",
       "4    1640 pixel    Dual Cam           32 megapixel   Single Cam   \n",
       "..          ...         ...                    ...          ...   \n",
       "235  2796 pixel    Dual Cam           48 megapixel   Single Cam   \n",
       "236  2796 pixel    Dual Cam           48 megapixel   Single Cam   \n",
       "237  2796 pixel    Dual Cam           48 megapixel   Single Cam   \n",
       "238  2712 pixel  Triple Cam           50 megapixel   Single Cam   \n",
       "239  2400 pixel  Single Cam           50 megapixel   Single Cam   \n",
       "\n",
       "    front_camera_resolution face_id dual_sim         w          h        d  \\\n",
       "0              13 megapixel    Igen     Igen   77.8 mm  171.88 mm  8.22 mm   \n",
       "1              32 megapixel     NaN     Igen   74.9 mm   162.2 mm   8.2 mm   \n",
       "2              13 megapixel     NaN      Nem   77.5 mm     164 mm   7.7 mm   \n",
       "3              20 megapixel     NaN     Igen   75.7 mm   162.4 mm     8 mm   \n",
       "4               8 megapixel    Igen     Igen   79.4 mm   173.3 mm  8.26 mm   \n",
       "..                      ...     ...      ...       ...        ...      ...   \n",
       "235            12 megapixel    Igen      Nem   77.8 mm   160.9 mm   7.8 mm   \n",
       "236            12 megapixel    Igen      Nem   77.8 mm   160.9 mm   7.8 mm   \n",
       "237            12 megapixel    Igen      Nem   77.8 mm   160.9 mm   7.8 mm   \n",
       "238            50 megapixel     NaN      Nem  73.06 mm  160.69 mm  8.24 mm   \n",
       "239             8 megapixel     NaN     Igen  76.22 mm  165.69 mm  7.99 mm   \n",
       "\n",
       "         mass   battery  \n",
       "0       211 g  5160 mAh  \n",
       "1       180 g  5500 mAh  \n",
       "2       200 g  5000 mAh  \n",
       "3       190 g  5110 mAh  \n",
       "4       198 g  5200 mAh  \n",
       "..        ...       ...  \n",
       "235     199 g  4006 mAh  \n",
       "236  0.201 kg       NaN  \n",
       "237  0.201 kg       NaN  \n",
       "238     186 g  6000 mAh  \n",
       "239     196 g  6000 mAh  \n",
       "\n",
       "[231 rows x 19 columns]"
      ]
     },
     "execution_count": 11,
     "metadata": {},
     "output_type": "execute_result"
    }
   ],
   "source": [
    "# Op rendszer\n",
    "df = df.drop(['op'], axis=1)\n",
    "df"
   ]
  },
  {
   "cell_type": "code",
   "execution_count": 12,
   "id": "c511f523-b8ae-4ecb-9724-0baf16efaec1",
   "metadata": {},
   "outputs": [
    {
     "data": {
      "text/plain": [
       "array(['128 GB', '256 GB', '64 GB', '1 TB', '512 GB', '16 GB'],\n",
       "      dtype=object)"
      ]
     },
     "execution_count": 12,
     "metadata": {},
     "output_type": "execute_result"
    }
   ],
   "source": [
    "# Capacity\n",
    "df.capacity.unique()"
   ]
  },
  {
   "cell_type": "code",
   "execution_count": 13,
   "id": "2df4fc90-44da-4acf-8c97-9f4b87af67df",
   "metadata": {},
   "outputs": [],
   "source": [
    "df = df.replace({'capacity': {'1 TB': '1024 GB'}})\n",
    "df['capacity'] = df['capacity'].str.split(' ').str[0].astype(int)"
   ]
  },
  {
   "cell_type": "code",
   "execution_count": 14,
   "id": "7b792266-d28f-456d-8d51-3d47b0ae4bf7",
   "metadata": {},
   "outputs": [
    {
     "data": {
      "text/plain": [
       "0"
      ]
     },
     "execution_count": 14,
     "metadata": {},
     "output_type": "execute_result"
    }
   ],
   "source": [
    "df.capacity.isna().sum()"
   ]
  },
  {
   "cell_type": "code",
   "execution_count": 15,
   "id": "0fa3ddea-bd0a-49fc-a8cd-3b088dabd7ee",
   "metadata": {},
   "outputs": [
    {
     "data": {
      "text/plain": [
       "array(['4 GB', '8 GB', '6 GB', '3 GB', '12 GB', '16 GB', '2 GB', '1 GB'],\n",
       "      dtype=object)"
      ]
     },
     "execution_count": 15,
     "metadata": {},
     "output_type": "execute_result"
    }
   ],
   "source": [
    "# Memory\n",
    "df.memory.unique()"
   ]
  },
  {
   "cell_type": "code",
   "execution_count": 16,
   "id": "3b02160c-7355-46c4-a40d-4a86ffc7b997",
   "metadata": {},
   "outputs": [],
   "source": [
    "df['memory'] = df['memory'].str.split(' ').str[0].astype(int)"
   ]
  },
  {
   "cell_type": "code",
   "execution_count": 17,
   "id": "e0ec2948-d02f-47ca-86be-93e9d38a2bd2",
   "metadata": {},
   "outputs": [
    {
     "data": {
      "text/plain": [
       "0"
      ]
     },
     "execution_count": 17,
     "metadata": {},
     "output_type": "execute_result"
    }
   ],
   "source": [
    "df.memory.isna().sum()"
   ]
  },
  {
   "cell_type": "code",
   "execution_count": 18,
   "id": "b2dfaa1f-1bf2-48f6-9720-2589afa35262",
   "metadata": {},
   "outputs": [
    {
     "data": {
      "text/plain": [
       "array(['17.47 cm', '16.94 cm', '17 cm', '17.5 cm', '16.71 cm', '17.19 cm',\n",
       "       '17.01 cm', '17.3 cm', '15.75 cm', '16.63 cm', '17.35 cm',\n",
       "       '17.27 cm', '16.76 cm', '16.15 cm', '15.49 cm', '16 cm',\n",
       "       '15.74 cm', '16.6 cm', '17.22 cm', '17.4 cm', '17.78 cm',\n",
       "       '19.3 cm', '15.24 cm', '16.9 cm', '17.1 cm', '20.11 cm', '17.2 cm',\n",
       "       '12.7 cm', '16.56 cm', '14.4 cm', '16.51 cm', '17.17 cm',\n",
       "       '17.20 cm', '16.96 cm', '17.06 cm', '16.25 cm', '20.32 cm',\n",
       "       '17.07 cm', '17.14 cm'], dtype=object)"
      ]
     },
     "execution_count": 18,
     "metadata": {},
     "output_type": "execute_result"
    }
   ],
   "source": [
    "# Screen diagonal\n",
    "df.screen_diagonal.unique()"
   ]
  },
  {
   "cell_type": "code",
   "execution_count": 19,
   "id": "4045acbe-7bf8-44f5-85e0-50a79ae16c69",
   "metadata": {},
   "outputs": [],
   "source": [
    "df['screen_diagonal'] = df['screen_diagonal'].str.split(' ').str[0].astype(float)"
   ]
  },
  {
   "cell_type": "code",
   "execution_count": 20,
   "id": "83a592e8-f391-42c8-9d07-a870d753a916",
   "metadata": {},
   "outputs": [
    {
     "data": {
      "text/plain": [
       "0"
      ]
     },
     "execution_count": 20,
     "metadata": {},
     "output_type": "execute_result"
    }
   ],
   "source": [
    "df['screen_diagonal'].isna().sum()"
   ]
  },
  {
   "cell_type": "code",
   "execution_count": 21,
   "id": "c1e8c7ed-a694-4049-b7ce-eb26d9a8a2b9",
   "metadata": {},
   "outputs": [],
   "source": [
    "# Pixel width & height\n",
    "df = df.dropna(subset=['pixel_w', 'pixel_h'])\n",
    "df['pixel_w'] = df['pixel_w'].str.split(' ').str[0].astype(int)\n",
    "df['pixel_h'] = df['pixel_h'].str.split(' ').str[0].astype(int)"
   ]
  },
  {
   "cell_type": "code",
   "execution_count": 22,
   "id": "3e6f6474-eafc-4a88-9097-f2c0c07285e4",
   "metadata": {},
   "outputs": [],
   "source": [
    "# Back camera & resolution"
   ]
  },
  {
   "cell_type": "code",
   "execution_count": 23,
   "id": "5b560f9b-8d08-424c-9225-29d0471d8e1a",
   "metadata": {},
   "outputs": [
    {
     "data": {
      "text/plain": [
       "array(['Dual Cam', 'Triple Cam', 'Quad Cam', 'Single Cam'], dtype=object)"
      ]
     },
     "execution_count": 23,
     "metadata": {},
     "output_type": "execute_result"
    }
   ],
   "source": [
    "df.back_camera.unique()"
   ]
  },
  {
   "cell_type": "code",
   "execution_count": 24,
   "id": "df99f0a3-303f-4e4e-b2be-017cb7613c0d",
   "metadata": {},
   "outputs": [],
   "source": [
    "df.back_camera = df.back_camera.map({'Single Cam': 1, 'Dual Cam': 2, 'Triple Cam': 3, 'Quad Cam': 4})"
   ]
  },
  {
   "cell_type": "code",
   "execution_count": 25,
   "id": "41b8d2a3-2941-423e-848c-f6aed1c2fac8",
   "metadata": {},
   "outputs": [
    {
     "data": {
      "text/plain": [
       "0"
      ]
     },
     "execution_count": 25,
     "metadata": {},
     "output_type": "execute_result"
    }
   ],
   "source": [
    "df.back_camera.isna().sum()"
   ]
  },
  {
   "cell_type": "code",
   "execution_count": 26,
   "id": "0a6c44e5-f5dc-42c1-8714-960565f31013",
   "metadata": {},
   "outputs": [
    {
     "data": {
      "text/plain": [
       "1"
      ]
     },
     "execution_count": 26,
     "metadata": {},
     "output_type": "execute_result"
    }
   ],
   "source": [
    "df.back_camera_resolution.isna().sum()"
   ]
  },
  {
   "cell_type": "code",
   "execution_count": 27,
   "id": "3e4d933a-701f-49b5-890f-7a7315b81c7c",
   "metadata": {},
   "outputs": [
    {
     "data": {
      "text/plain": [
       "(array([ 19.,   9., 159.,   0.,   0.,  25.,   0.,   0.,   0.,  18.]),\n",
       " array([  5. ,  24.5,  44. ,  63.5,  83. , 102.5, 122. , 141.5, 161. ,\n",
       "        180.5, 200. ]),\n",
       " <BarContainer object of 10 artists>)"
      ]
     },
     "execution_count": 27,
     "metadata": {},
     "output_type": "execute_result"
    },
    {
     "data": {
      "image/png": "[encoded data removed]",
      "text/plain": [
       "<Figure size 640x480 with 1 Axes>"
      ]
     },
     "metadata": {},
     "output_type": "display_data"
    }
   ],
   "source": [
    "#df = df.dropna(subset=['back_camera_resolution'])\n",
    "\n",
    "df['back_camera_resolution'] = df['back_camera_resolution'].str.extract(r'(\\d+)').astype(float)\n",
    "df['back_camera_resolution'] = df['back_camera_resolution'].fillna(df['back_camera_resolution'].median())\n",
    "plt.hist(df.back_camera_resolution)"
   ]
  },
  {
   "cell_type": "code",
   "execution_count": 28,
   "id": "d9b9b41e-571b-4f95-be63-de08fb0daf9b",
   "metadata": {},
   "outputs": [],
   "source": [
    "# Front camera & resolution"
   ]
  },
  {
   "cell_type": "code",
   "execution_count": 29,
   "id": "f3ceb059-e117-4457-9e9d-4361b8bab9ec",
   "metadata": {},
   "outputs": [],
   "source": [
    "df.front_camera.unique()\n",
    "df.front_camera = df.front_camera.map({'Single Cam': 1, 'Dual Cam': 2})"
   ]
  },
  {
   "cell_type": "code",
   "execution_count": 30,
   "id": "c403c1e5-b266-4857-aa90-ad8f6cae6936",
   "metadata": {},
   "outputs": [
    {
     "data": {
      "text/plain": [
       "0"
      ]
     },
     "execution_count": 30,
     "metadata": {},
     "output_type": "execute_result"
    }
   ],
   "source": [
    "df['front_camera_resolution'] = df['front_camera_resolution'].str.split(' ').str[0].astype(int)\n",
    "df.front_camera_resolution.isna().sum()"
   ]
  },
  {
   "cell_type": "code",
   "execution_count": 31,
   "id": "f474b949-8a9f-49f8-8a47-62106176b33d",
   "metadata": {},
   "outputs": [],
   "source": [
    "# Face ID & Dual Sim\n",
    "df['face_id'] = df['face_id'].replace({'Igen': 1, 'Nem': 0}).fillna(0).astype(int)\n",
    "df['dual_sim'] = df['dual_sim'].replace({'Igen': 1, 'Nem': 0}).fillna(0).astype(int)"
   ]
  },
  {
   "cell_type": "code",
   "execution_count": 32,
   "id": "5e6ee013-a999-4390-a987-b02e83295d82",
   "metadata": {},
   "outputs": [],
   "source": [
    "# Width & Height & Depth\n",
    "df.w = df.w.str.split(' ').str[0].astype(float)\n",
    "df.h = df.h.str.split(' ').str[0].astype(float)\n",
    "df.d = df.d.str.split(' ').str[0].astype(float)\n",
    "\n",
    "df = df[df.h > 100]\n",
    "df = df[df.w < 100]\n",
    "\n",
    "#plt.hist(df.h)"
   ]
  },
  {
   "cell_type": "code",
   "execution_count": 33,
   "id": "475e4403-1673-4127-9054-e4f7e4bde8f5",
   "metadata": {},
   "outputs": [],
   "source": [
    "# Mass\n",
    "df.mass = df.mass.str.split(' ').str[0].astype(float)\n",
    "df.loc[df['mass'] < 1, 'mass'] = df.loc[df['mass'] < 1, 'mass'] * 1000"
   ]
  },
  {
   "cell_type": "code",
   "execution_count": 34,
   "id": "2dda03c7-170f-45f9-9084-4459ef19aa56",
   "metadata": {},
   "outputs": [
    {
     "data": {
      "text/plain": [
       "(array([  1.,   0.,   0.,  13.,  18.,  15., 142.,   9.,  16.,  11.]),\n",
       " array([2000., 2500., 3000., 3500., 4000., 4500., 5000., 5500., 6000.,\n",
       "        6500., 7000.]),\n",
       " <BarContainer object of 10 artists>)"
      ]
     },
     "execution_count": 34,
     "metadata": {},
     "output_type": "execute_result"
    },
    {
     "data": {
      "image/png": "[encoded data removed]",
      "text/plain": [
       "<Figure size 640x480 with 1 Axes>"
      ]
     },
     "metadata": {},
     "output_type": "display_data"
    }
   ],
   "source": [
    "# Step 1: Extract numeric part and convert to float (to allow NaN)\n",
    "df['battery'] = df['battery'].str.extract(r'(\\d+)').astype(float)\n",
    "df['battery'] = df['battery'].fillna(df['battery'].median())\n",
    "plt.hist(df.battery)"
   ]
  },
  {
   "cell_type": "code",
   "execution_count": null,
   "id": "313fdb62-be4a-4aea-9138-faf607a7d279",
   "metadata": {},
   "outputs": [],
   "source": []
  },
  {
   "cell_type": "code",
   "execution_count": null,
   "id": "e23fc492-29c2-4c13-a245-25c1a2ceef55",
   "metadata": {},
   "outputs": [],
   "source": []
  },
  {
   "cell_type": "code",
   "execution_count": null,
   "id": "044bdd73-8cae-4d87-b223-e5a5a76df7c5",
   "metadata": {},
   "outputs": [],
   "source": []
  },
  {
   "cell_type": "code",
   "execution_count": 46,
   "id": "51375ec0-fdd3-47f9-ac85-88fe2177b57f",
   "metadata": {},
   "outputs": [
    {
     "name": "stdout",
     "output_type": "stream",
     "text": [
      "Train size: 157, Validation size: 45, Test size: 23\n",
      "                    Description             Value\n",
      "0                    Session id                42\n",
      "1                        Target             price\n",
      "2                   Target type        Regression\n",
      "3           Original data shape         (202, 19)\n",
      "4        Transformed data shape         (202, 19)\n",
      "5   Transformed train set shape         (141, 19)\n",
      "6    Transformed test set shape          (61, 19)\n",
      "7              Ordinal features                 2\n",
      "8              Numeric features                13\n",
      "9          Categorical features                 5\n",
      "10                   Preprocess              True\n",
      "11              Imputation type            simple\n",
      "12           Numeric imputation              mean\n",
      "13       Categorical imputation              mode\n",
      "14     Maximum one-hot encoding                25\n",
      "15              Encoding method              None\n",
      "16                    Normalize              True\n",
      "17             Normalize method            zscore\n",
      "18               Fold Generator             KFold\n",
      "19                  Fold Number                10\n",
      "20                     CPU Jobs                -1\n",
      "21                      Use GPU             False\n",
      "22               Log Experiment             False\n",
      "23              Experiment Name  reg-default-name\n",
      "24                          USI              167a\n"
     ]
    },
    {
     "name": "stderr",
     "output_type": "stream",
     "text": [
      "                                                                                                                                      "
     ]
    },
    {
     "name": "stdout",
     "output_type": "stream",
     "text": [
      "                                    Model           MAE           MSE  \\\n",
      "et                  Extra Trees Regressor  1.659162e+04  1.239021e+09   \n",
      "gbr           Gradient Boosting Regressor  1.864553e+04  1.525195e+09   \n",
      "rf                Random Forest Regressor  2.646175e+04  2.023171e+09   \n",
      "dt                Decision Tree Regressor  2.231654e+04  2.344466e+09   \n",
      "ada                    AdaBoost Regressor  4.190975e+04  2.744540e+09   \n",
      "lightgbm  Light Gradient Boosting Machine  3.448042e+04  2.781957e+09   \n",
      "ridge                    Ridge Regression  4.372654e+04  3.426527e+09   \n",
      "br                         Bayesian Ridge  4.417883e+04  3.446889e+09   \n",
      "lasso                    Lasso Regression  4.398220e+04  3.465496e+09   \n",
      "lr                      Linear Regression  4.407151e+04  3.473732e+09   \n",
      "llar         Lasso Least Angle Regression  4.406734e+04  3.473935e+09   \n",
      "huber                     Huber Regressor  4.453037e+04  4.055213e+09   \n",
      "knn                 K Neighbors Regressor  4.446088e+04  4.897487e+09   \n",
      "en                            Elastic Net  5.434306e+04  5.019944e+09   \n",
      "omp           Orthogonal Matching Pursuit  1.127073e+05  1.833452e+10   \n",
      "par          Passive Aggressive Regressor  1.071457e+05  2.687593e+10   \n",
      "dummy                     Dummy Regressor  1.490161e+05  3.075760e+10   \n",
      "lar                Least Angle Regression  5.539247e+07  3.920060e+16   \n",
      "\n",
      "                  RMSE            R2   RMSLE      MAPE  TT (Sec)  \n",
      "et        3.174747e+04  9.455000e-01  0.1872    0.1159     0.092  \n",
      "gbr       3.468495e+04  9.295000e-01  0.2128    0.1488     0.067  \n",
      "rf        4.263039e+04  9.109000e-01  0.2375    0.1907     0.110  \n",
      "dt        4.406566e+04  9.049000e-01  0.2540    0.1802     0.048  \n",
      "ada       5.089818e+04  8.888000e-01  0.4430    0.4599     0.067  \n",
      "lightgbm  5.069084e+04  8.780000e-01  0.3833    0.2698     0.182  \n",
      "ridge     5.748112e+04  8.537000e-01  0.5199    0.4572     0.044  \n",
      "br        5.770470e+04  8.529000e-01  0.5445    0.4640     0.046  \n",
      "lasso     5.765847e+04  8.521000e-01  0.5847    0.4559     0.049  \n",
      "lr        5.771589e+04  8.515000e-01  0.6428    0.4573     0.042  \n",
      "llar      5.771802e+04  8.515000e-01  0.6377    0.4572     0.045  \n",
      "huber     6.191272e+04  8.296000e-01  0.5980    0.4374     0.048  \n",
      "knn       6.628176e+04  8.217000e-01  0.2951    0.2287     0.046  \n",
      "en        6.995643e+04  8.035000e-01  0.6008    0.4960     0.048  \n",
      "omp       1.323958e+05  3.316000e-01  0.8736    1.0195     0.043  \n",
      "par       1.593403e+05  7.150000e-02  0.7154    0.4109     0.044  \n",
      "dummy     1.730208e+05 -1.158000e-01  1.0205    1.5897     0.040  \n",
      "lar       8.293402e+07 -1.743764e+06  2.6429  699.1861     0.044  \n"
     ]
    },
    {
     "name": "stderr",
     "output_type": "stream",
     "text": [
      "\r"
     ]
    }
   ],
   "source": [
    "from pycaret.regression import *\n",
    "import matplotlib.pyplot as plt\n",
    "import shap\n",
    "\n",
    "# 1. Prepare the dataset for pycaret\n",
    "# Specify column types:\n",
    "binary_cat = ['type', 'face_id', 'dual_sim']\n",
    "ordinal_cat = ['front_camera', 'back_camera']\n",
    "\n",
    "# 2. Create train/validation/test split: 70-20-10\n",
    "train_val = df.sample(frac=0.9, random_state=42)  # 90% train+val\n",
    "test = df.drop(train_val.index)                  # 10% test\n",
    "\n",
    "val = train_val.sample(frac=2/9, random_state=42)  # ~20% of total\n",
    "train = train_val.drop(val.index)                   # ~70% of total\n",
    "\n",
    "print(f\"Train size: {train.shape[0]}, Validation size: {val.shape[0]}, Test size: {test.shape[0]}\")\n",
    "\n",
    "# 3. Setup PyCaret on train + validation combined (since pycaret does internal CV)\n",
    "# But to tune on validation, we will first train on train, tune on validation manually.\n",
    "\n",
    "# Combine train and validation for PyCaret setup\n",
    "train_val_combined = pd.concat([train, val])\n",
    "\n",
    "reg = setup(\n",
    "    data=train_val_combined,\n",
    "    target='price',\n",
    "    numeric_features=['reviews', 'capacity', 'memory', 'screen_diagonal', 'pixel_w', 'pixel_h', \n",
    "                      'back_camera_resolution', 'front_camera_resolution', 'w', 'h', 'd', 'mass', 'battery'],\n",
    "    categorical_features=binary_cat + ordinal_cat,\n",
    "    ordinal_features={\n",
    "        'front_camera': ['1', '2'],   # replace these categories with actual ordinal levels if known\n",
    "        'back_camera': ['1', '2', '3', '4']    # adjust levels accordingly\n",
    "    },\n",
    "    normalize=True,\n",
    "    session_id=42,\n",
    "    html=False\n",
    ")\n",
    "\n",
    "# 4. Compare models and pick top 3 for tuning\n",
    "top3 = compare_models(n_select=3)"
   ]
  },
  {
   "cell_type": "code",
   "execution_count": 50,
   "id": "d87be500-6822-4e63-81d6-db8dd42ca0b3",
   "metadata": {},
   "outputs": [
    {
     "name": "stderr",
     "output_type": "stream",
     "text": [
      "Processing:   0%|                                                                                               | 0/7 [00:00<?, ?it/s]"
     ]
    },
    {
     "name": "stdout",
     "output_type": "stream",
     "text": [
      "Fitting 5 folds for each of 20 candidates, totalling 100 fits\n"
     ]
    },
    {
     "name": "stderr",
     "output_type": "stream",
     "text": [
      "                                                                                                                                      \r"
     ]
    },
    {
     "name": "stdout",
     "output_type": "stream",
     "text": [
      "Original model was better than the tuned model, hence it will be returned. NOTE: The display metrics are for the tuned model (not the original one).\n",
      "             MAE           MSE        RMSE      R2   RMSLE    MAPE\n",
      "Fold                                                              \n",
      "0     41076.3116  3.214152e+09  56693.4959  0.8557  0.3290  0.2575\n",
      "1     36773.8293  3.344060e+09  57827.8522  0.9127  0.2778  0.2432\n",
      "2     22936.3632  1.026326e+09  32036.3196  0.9704  0.2023  0.1570\n",
      "3     31068.7528  1.748639e+09  41816.7369  0.9437  0.2373  0.2042\n",
      "4     30192.0324  1.773111e+09  42108.3205  0.9206  0.3630  0.3201\n",
      "Mean  32409.4579  2.221258e+09  46096.5450  0.9206  0.2819  0.2364\n",
      "Std    6174.4000  9.053830e+08   9816.6345  0.0382  0.0585  0.0545\n",
      "                   Model       MAE           MSE       RMSE      R2  RMSLE  \\\n",
      "0  Extra Trees Regressor  459.9056  4.530803e+06  2128.5684  0.9998  0.028   \n",
      "\n",
      "     MAPE  \n",
      "0  0.0056  \n",
      "Model: ExtraTreesRegressor(n_jobs=-1, random_state=42), Validation RMSE: 2128.57\n"
     ]
    },
    {
     "name": "stderr",
     "output_type": "stream",
     "text": [
      "Processing:   0%|                                                                                               | 0/7 [00:00<?, ?it/s]"
     ]
    },
    {
     "name": "stdout",
     "output_type": "stream",
     "text": [
      "Fitting 5 folds for each of 20 candidates, totalling 100 fits\n"
     ]
    },
    {
     "name": "stderr",
     "output_type": "stream",
     "text": [
      "                                                                                                                                      \r"
     ]
    },
    {
     "name": "stdout",
     "output_type": "stream",
     "text": [
      "             MAE           MSE        RMSE      R2   RMSLE    MAPE\n",
      "Fold                                                              \n",
      "0     29495.5297  2.363302e+09  48613.8045  0.8939  0.3357  0.2086\n",
      "1     18821.6265  1.231338e+09  35090.4215  0.9679  0.2102  0.1125\n",
      "2     18368.9195  7.241144e+08  26909.3744  0.9791  0.1586  0.1094\n",
      "3     11472.7082  2.329208e+08  15261.7420  0.9925  0.2566  0.1151\n",
      "4     20100.9916  1.580231e+09  39752.1170  0.9292  0.3635  0.2445\n",
      "Mean  19651.9551  1.226381e+09  33125.4919  0.9525  0.2649  0.1580\n",
      "Std    5767.7257  7.289799e+08  11361.4666  0.0361  0.0763  0.0571\n",
      "                         Model        MAE           MSE        RMSE      R2  \\\n",
      "0  Gradient Boosting Regressor  6905.3976  1.341141e+08  11580.7635  0.9955   \n",
      "\n",
      "    RMSLE    MAPE  \n",
      "0  0.0842  0.0442  \n",
      "Model: GradientBoostingRegressor(random_state=42), Validation RMSE: 11580.76\n"
     ]
    },
    {
     "name": "stderr",
     "output_type": "stream",
     "text": [
      "Processing:   0%|                                                                                               | 0/7 [00:00<?, ?it/s]"
     ]
    },
    {
     "name": "stdout",
     "output_type": "stream",
     "text": [
      "Fitting 5 folds for each of 20 candidates, totalling 100 fits\n"
     ]
    },
    {
     "name": "stderr",
     "output_type": "stream",
     "text": [
      "                                                                                                                                      \r"
     ]
    },
    {
     "name": "stdout",
     "output_type": "stream",
     "text": [
      "Original model was better than the tuned model, hence it will be returned. NOTE: The display metrics are for the tuned model (not the original one).\n",
      "             MAE           MSE        RMSE      R2   RMSLE    MAPE\n",
      "Fold                                                              \n",
      "0     44890.3485  3.721032e+09  61000.2610  0.8330  0.3217  0.2586\n",
      "1     35531.7650  4.152678e+09  64441.2758  0.8916  0.2010  0.1658\n",
      "2     28601.3297  1.492789e+09  38636.6278  0.9569  0.1616  0.1432\n",
      "3     21514.1380  1.072958e+09  32756.0447  0.9655  0.1954  0.1482\n",
      "4     27008.6749  1.773018e+09  42107.2258  0.9206  0.3580  0.2724\n",
      "Mean  31509.2512  2.442495e+09  47788.2870  0.9135  0.2475  0.1976\n",
      "Std    8047.9546  1.247810e+09  12600.5867  0.0482  0.0774  0.0561\n",
      "                     Model        MAE           MSE        RMSE      R2  \\\n",
      "0  Random Forest Regressor  7827.7565  1.609827e+08  12687.8959  0.9946   \n",
      "\n",
      "    RMSLE    MAPE  \n",
      "0  0.0762  0.0477  \n",
      "Model: RandomForestRegressor(n_jobs=-1, random_state=42), Validation RMSE: 12687.90\n",
      "\n",
      "Best model: ExtraTreesRegressor(n_jobs=-1, random_state=42) with Validation RMSE: 2128.57\n",
      "                   Model         MAE           MSE        RMSE      R2  \\\n",
      "0  Extra Trees Regressor  13223.9676  8.706308e+08  29506.4542  0.9479   \n",
      "\n",
      "    RMSLE    MAPE  \n",
      "0  0.1563  0.0917  \n",
      "Test RMSE: 29506.45, Test R2: 0.948\n"
     ]
    },
    {
     "data": {
      "image/png": "[encoded data removed]",
      "text/plain": [
       "<Figure size 700x700 with 1 Axes>"
      ]
     },
     "metadata": {},
     "output_type": "display_data"
    }
   ],
   "source": [
    "from sklearn.metrics import mean_squared_error, r2_score\n",
    "import matplotlib.pyplot as plt\n",
    "import shap\n",
    "\n",
    "# 4. Tune each model on TRAIN set and evaluate on VALIDATION set manually\n",
    "best_model = None\n",
    "best_score = float('inf')\n",
    "best_model_name = ''\n",
    "\n",
    "for model in top3:\n",
    "    tuned = tune_model(model, optimize='RMSE', fold=5, n_iter=20)\n",
    "    val_pred = predict_model(tuned, data=val)\n",
    "\n",
    "    # Find the prediction column safely\n",
    "    pred_col = None\n",
    "    for col in ['Label', 'prediction_label', 'prediction']:\n",
    "        if col in val_pred.columns:\n",
    "            pred_col = col\n",
    "            break\n",
    "    if pred_col is None:\n",
    "        pred_col = val_pred.columns[-1]  # fallback to last column\n",
    "\n",
    "    val_rmse = mean_squared_error(val['price'], val_pred[pred_col], squared=False)\n",
    "    print(f\"Model: {model}, Validation RMSE: {val_rmse:.2f}\")\n",
    "\n",
    "    if val_rmse < best_score:\n",
    "        best_score = val_rmse\n",
    "        best_model = tuned\n",
    "        best_model_name = str(model)\n",
    "\n",
    "print(f\"\\nBest model: {best_model_name} with Validation RMSE: {best_score:.2f}\")\n",
    "\n",
    "# 5. Evaluate best model on TEST set\n",
    "test_pred = predict_model(best_model, data=test)\n",
    "pred_col = None\n",
    "for col in ['Label', 'prediction_label', 'prediction']:\n",
    "    if col in test_pred.columns:\n",
    "        pred_col = col\n",
    "        break\n",
    "if pred_col is None:\n",
    "    pred_col = test_pred.columns[-1]\n",
    "\n",
    "test_rmse = mean_squared_error(test['price'], test_pred[pred_col], squared=False)\n",
    "test_r2 = r2_score(test['price'], test_pred[pred_col])\n",
    "print(f\"Test RMSE: {test_rmse:.2f}, Test R2: {test_r2:.3f}\")\n",
    "\n",
    "# 6. Regression plot on test set\n",
    "plt.figure(figsize=(7, 7))\n",
    "plt.scatter(test['price'], test_pred[pred_col], alpha=0.7)\n",
    "plt.plot([test['price'].min(), test['price'].max()],\n",
    "         [test['price'].min(), test['price'].max()], 'r--')\n",
    "plt.xlabel('Actual Price')\n",
    "plt.ylabel('Predicted Price')\n",
    "plt.title(f'Regression Plot - {best_model_name}')\n",
    "plt.grid(True)\n",
    "plt.show()\n",
    "\n",
    "\n"
   ]
  },
  {
   "cell_type": "code",
   "execution_count": 56,
   "id": "82441b81-b15a-4df1-b710-fbb1cc951c0a",
   "metadata": {},
   "outputs": [
    {
     "name": "stdout",
     "output_type": "stream",
     "text": [
      "Transformation Pipeline and Model Successfully Saved\n"
     ]
    },
    {
     "data": {
      "text/plain": [
       "(Pipeline(memory=Memory(location=None),\n",
       "          steps=[('numerical_imputer',\n",
       "                  TransformerWrapper(include=['reviews', 'capacity', 'memory',\n",
       "                                              'screen_diagonal', 'pixel_w',\n",
       "                                              'pixel_h',\n",
       "                                              'back_camera_resolution',\n",
       "                                              'front_camera_resolution', 'w',\n",
       "                                              'h', 'd', 'mass', 'battery'],\n",
       "                                     transformer=SimpleImputer())),\n",
       "                 ('categorical_imputer',\n",
       "                  TransformerWrapper(include=['type', 'face_id', 'dual_sim...\n",
       "                                                                          'mapping': 1      0\n",
       " 2      1\n",
       " 3      2\n",
       " 4      3\n",
       " NaN   -1\n",
       " dtype: int64}]))),\n",
       "                 ('onehot_encoding',\n",
       "                  TransformerWrapper(include=['front_camera', 'back_camera'],\n",
       "                                     transformer=OneHotEncoder(cols=['front_camera',\n",
       "                                                                     'back_camera'],\n",
       "                                                               handle_missing='return_nan',\n",
       "                                                               use_cat_names=True))),\n",
       "                 ('normalize', TransformerWrapper(transformer=StandardScaler())),\n",
       "                 ('trained_model',\n",
       "                  ExtraTreesRegressor(n_jobs=-1, random_state=42))]),\n",
       " 'best_model.pkl')"
      ]
     },
     "execution_count": 56,
     "metadata": {},
     "output_type": "execute_result"
    }
   ],
   "source": [
    "from pycaret.regression import save_model\n",
    "\n",
    "save_model(best_model, 'best_model')\n"
   ]
  },
  {
   "cell_type": "code",
   "execution_count": null,
   "id": "da4db8d2-f01f-4eb8-911d-f6d98b6a4c5b",
   "metadata": {},
   "outputs": [],
   "source": []
  }
 ],
 "metadata": {
  "kernelspec": {
   "display_name": "venv_pulp",
   "language": "python",
   "name": "venv_pulp"
  },
  "language_info": {
   "codemirror_mode": {
    "name": "ipython",
    "version": 3
   },
   "file_extension": ".py",
   "mimetype": "text/x-python",
   "name": "python",
   "nbconvert_exporter": "python",
   "pygments_lexer": "ipython3",
   "version": "3.10.5"
  }
 },
 "nbformat": 4,
 "nbformat_minor": 5
}
